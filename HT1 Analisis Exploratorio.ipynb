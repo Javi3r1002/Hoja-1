{
 "cells": [
  {
   "cell_type": "markdown",
   "id": "be89c354",
   "metadata": {},
   "source": [
    "# Hoja de Trabajo 1: Análisis Exploratorio "
   ]
  },
  {
   "cell_type": "code",
   "execution_count": 7,
   "id": "4fd2ed68",
   "metadata": {},
   "outputs": [],
   "source": [
    "import numpy as np\n",
    "import pandas as pd\n",
    "import matplotlib\n",
    "import matplotlib.pyplot as plt\n",
    "import scipy.stats as stats\n",
    "import statsmodels.stats.diagnostic as diag\n",
    "import statsmodels.api as sm"
   ]
  },
  {
   "cell_type": "markdown",
   "id": "ed0054e4",
   "metadata": {},
   "source": [
    "#### Leyendo los datos del archivo \"movies\""
   ]
  },
  {
   "cell_type": "code",
   "execution_count": 8,
   "id": "fe30cd42",
   "metadata": {},
   "outputs": [],
   "source": [
    "datos=pd.read_csv(\"movies.csv\", encoding='cp1252')"
   ]
  },
  {
   "cell_type": "markdown",
   "id": "87ed4e34",
   "metadata": {},
   "source": [
    "## PROBLEMA 1: Resumen del conjunto de datos"
   ]
  },
  {
   "cell_type": "code",
   "execution_count": 9,
   "id": "69761728",
   "metadata": {
    "scrolled": true
   },
   "outputs": [
    {
     "data": {
      "text/html": [
       "<div>\n",
       "<style scoped>\n",
       "    .dataframe tbody tr th:only-of-type {\n",
       "        vertical-align: middle;\n",
       "    }\n",
       "\n",
       "    .dataframe tbody tr th {\n",
       "        vertical-align: top;\n",
       "    }\n",
       "\n",
       "    .dataframe thead th {\n",
       "        text-align: right;\n",
       "    }\n",
       "</style>\n",
       "<table border=\"1\" class=\"dataframe\">\n",
       "  <thead>\n",
       "    <tr style=\"text-align: right;\">\n",
       "      <th></th>\n",
       "      <th>id</th>\n",
       "      <th>budget</th>\n",
       "      <th>revenue</th>\n",
       "      <th>runtime</th>\n",
       "      <th>popularity</th>\n",
       "      <th>voteAvg</th>\n",
       "      <th>voteCount</th>\n",
       "      <th>genresAmount</th>\n",
       "      <th>productionCoAmount</th>\n",
       "      <th>productionCountriesAmount</th>\n",
       "      <th>actorsAmount</th>\n",
       "    </tr>\n",
       "  </thead>\n",
       "  <tbody>\n",
       "    <tr>\n",
       "      <th>count</th>\n",
       "      <td>10000.000000</td>\n",
       "      <td>1.000000e+04</td>\n",
       "      <td>1.000000e+04</td>\n",
       "      <td>10000.000000</td>\n",
       "      <td>10000.000000</td>\n",
       "      <td>10000.000000</td>\n",
       "      <td>10000.000000</td>\n",
       "      <td>10000.000000</td>\n",
       "      <td>10000.000000</td>\n",
       "      <td>10000.000000</td>\n",
       "      <td>10000.000000</td>\n",
       "    </tr>\n",
       "    <tr>\n",
       "      <th>mean</th>\n",
       "      <td>249876.829300</td>\n",
       "      <td>1.855163e+07</td>\n",
       "      <td>5.673753e+07</td>\n",
       "      <td>100.268100</td>\n",
       "      <td>51.393907</td>\n",
       "      <td>6.483490</td>\n",
       "      <td>1342.381800</td>\n",
       "      <td>2.596500</td>\n",
       "      <td>3.171400</td>\n",
       "      <td>1.751000</td>\n",
       "      <td>2147.666600</td>\n",
       "    </tr>\n",
       "    <tr>\n",
       "      <th>std</th>\n",
       "      <td>257380.109004</td>\n",
       "      <td>3.662669e+07</td>\n",
       "      <td>1.495826e+08</td>\n",
       "      <td>27.777829</td>\n",
       "      <td>216.729552</td>\n",
       "      <td>0.984274</td>\n",
       "      <td>2564.196637</td>\n",
       "      <td>1.154565</td>\n",
       "      <td>2.539738</td>\n",
       "      <td>3.012093</td>\n",
       "      <td>37200.075802</td>\n",
       "    </tr>\n",
       "    <tr>\n",
       "      <th>min</th>\n",
       "      <td>5.000000</td>\n",
       "      <td>0.000000e+00</td>\n",
       "      <td>0.000000e+00</td>\n",
       "      <td>0.000000</td>\n",
       "      <td>4.258000</td>\n",
       "      <td>1.300000</td>\n",
       "      <td>1.000000</td>\n",
       "      <td>0.000000</td>\n",
       "      <td>0.000000</td>\n",
       "      <td>0.000000</td>\n",
       "      <td>0.000000</td>\n",
       "    </tr>\n",
       "    <tr>\n",
       "      <th>25%</th>\n",
       "      <td>12286.500000</td>\n",
       "      <td>0.000000e+00</td>\n",
       "      <td>0.000000e+00</td>\n",
       "      <td>90.000000</td>\n",
       "      <td>14.577750</td>\n",
       "      <td>5.900000</td>\n",
       "      <td>120.000000</td>\n",
       "      <td>2.000000</td>\n",
       "      <td>2.000000</td>\n",
       "      <td>1.000000</td>\n",
       "      <td>13.000000</td>\n",
       "    </tr>\n",
       "    <tr>\n",
       "      <th>50%</th>\n",
       "      <td>152558.000000</td>\n",
       "      <td>5.000000e+05</td>\n",
       "      <td>1.631245e+05</td>\n",
       "      <td>100.000000</td>\n",
       "      <td>21.905500</td>\n",
       "      <td>6.500000</td>\n",
       "      <td>415.000000</td>\n",
       "      <td>3.000000</td>\n",
       "      <td>3.000000</td>\n",
       "      <td>1.000000</td>\n",
       "      <td>21.000000</td>\n",
       "    </tr>\n",
       "    <tr>\n",
       "      <th>75%</th>\n",
       "      <td>452021.750000</td>\n",
       "      <td>2.000000e+07</td>\n",
       "      <td>4.479661e+07</td>\n",
       "      <td>113.000000</td>\n",
       "      <td>40.654000</td>\n",
       "      <td>7.200000</td>\n",
       "      <td>1316.000000</td>\n",
       "      <td>3.000000</td>\n",
       "      <td>4.000000</td>\n",
       "      <td>2.000000</td>\n",
       "      <td>36.000000</td>\n",
       "    </tr>\n",
       "    <tr>\n",
       "      <th>max</th>\n",
       "      <td>922260.000000</td>\n",
       "      <td>3.800000e+08</td>\n",
       "      <td>2.847246e+09</td>\n",
       "      <td>750.000000</td>\n",
       "      <td>11474.647000</td>\n",
       "      <td>10.000000</td>\n",
       "      <td>30788.000000</td>\n",
       "      <td>16.000000</td>\n",
       "      <td>89.000000</td>\n",
       "      <td>155.000000</td>\n",
       "      <td>919590.000000</td>\n",
       "    </tr>\n",
       "  </tbody>\n",
       "</table>\n",
       "</div>"
      ],
      "text/plain": [
       "                  id        budget       revenue       runtime    popularity  \\\n",
       "count   10000.000000  1.000000e+04  1.000000e+04  10000.000000  10000.000000   \n",
       "mean   249876.829300  1.855163e+07  5.673753e+07    100.268100     51.393907   \n",
       "std    257380.109004  3.662669e+07  1.495826e+08     27.777829    216.729552   \n",
       "min         5.000000  0.000000e+00  0.000000e+00      0.000000      4.258000   \n",
       "25%     12286.500000  0.000000e+00  0.000000e+00     90.000000     14.577750   \n",
       "50%    152558.000000  5.000000e+05  1.631245e+05    100.000000     21.905500   \n",
       "75%    452021.750000  2.000000e+07  4.479661e+07    113.000000     40.654000   \n",
       "max    922260.000000  3.800000e+08  2.847246e+09    750.000000  11474.647000   \n",
       "\n",
       "            voteAvg     voteCount  genresAmount  productionCoAmount  \\\n",
       "count  10000.000000  10000.000000  10000.000000        10000.000000   \n",
       "mean       6.483490   1342.381800      2.596500            3.171400   \n",
       "std        0.984274   2564.196637      1.154565            2.539738   \n",
       "min        1.300000      1.000000      0.000000            0.000000   \n",
       "25%        5.900000    120.000000      2.000000            2.000000   \n",
       "50%        6.500000    415.000000      3.000000            3.000000   \n",
       "75%        7.200000   1316.000000      3.000000            4.000000   \n",
       "max       10.000000  30788.000000     16.000000           89.000000   \n",
       "\n",
       "       productionCountriesAmount   actorsAmount  \n",
       "count               10000.000000   10000.000000  \n",
       "mean                    1.751000    2147.666600  \n",
       "std                     3.012093   37200.075802  \n",
       "min                     0.000000       0.000000  \n",
       "25%                     1.000000      13.000000  \n",
       "50%                     1.000000      21.000000  \n",
       "75%                     2.000000      36.000000  \n",
       "max                   155.000000  919590.000000  "
      ]
     },
     "execution_count": 9,
     "metadata": {},
     "output_type": "execute_result"
    }
   ],
   "source": [
    "datos.describe()"
   ]
  },
  {
   "cell_type": "code",
   "execution_count": 10,
   "id": "174a9aa3",
   "metadata": {},
   "outputs": [
    {
     "data": {
      "text/plain": [
       "(10000, 27)"
      ]
     },
     "execution_count": 10,
     "metadata": {},
     "output_type": "execute_result"
    }
   ],
   "source": [
    "datos.shape"
   ]
  },
  {
   "cell_type": "markdown",
   "id": "b340285d",
   "metadata": {},
   "source": [
    "## Problema 4"
   ]
  },
  {
   "cell_type": "markdown",
   "id": "30b0f7e6",
   "metadata": {},
   "source": [
    "### 4.1) Las 10 películas con mayor presupuesto"
   ]
  },
  {
   "cell_type": "code",
   "execution_count": 11,
   "id": "bea00454",
   "metadata": {},
   "outputs": [],
   "source": [
    "a = datos.nlargest(10,[\"budget\"])"
   ]
  },
  {
   "cell_type": "code",
   "execution_count": 12,
   "id": "e9246b76",
   "metadata": {},
   "outputs": [
    {
     "data": {
      "text/html": [
       "<div>\n",
       "<style scoped>\n",
       "    .dataframe tbody tr th:only-of-type {\n",
       "        vertical-align: middle;\n",
       "    }\n",
       "\n",
       "    .dataframe tbody tr th {\n",
       "        vertical-align: top;\n",
       "    }\n",
       "\n",
       "    .dataframe thead th {\n",
       "        text-align: right;\n",
       "    }\n",
       "</style>\n",
       "<table border=\"1\" class=\"dataframe\">\n",
       "  <thead>\n",
       "    <tr style=\"text-align: right;\">\n",
       "      <th></th>\n",
       "      <th>title</th>\n",
       "      <th>budget</th>\n",
       "      <th>revenue</th>\n",
       "      <th>voteCount</th>\n",
       "      <th>voteAvg</th>\n",
       "    </tr>\n",
       "  </thead>\n",
       "  <tbody>\n",
       "    <tr>\n",
       "      <th>716</th>\n",
       "      <td>Pirates of the Caribbean: On Stranger Tides</td>\n",
       "      <td>380000000</td>\n",
       "      <td>1.045714e+09</td>\n",
       "      <td>11580</td>\n",
       "      <td>6.5</td>\n",
       "    </tr>\n",
       "    <tr>\n",
       "      <th>4710</th>\n",
       "      <td>Avengers: Age of Ultron</td>\n",
       "      <td>365000000</td>\n",
       "      <td>1.405404e+09</td>\n",
       "      <td>19219</td>\n",
       "      <td>7.3</td>\n",
       "    </tr>\n",
       "    <tr>\n",
       "      <th>5952</th>\n",
       "      <td>Avengers: Endgame</td>\n",
       "      <td>356000000</td>\n",
       "      <td>2.797801e+09</td>\n",
       "      <td>20186</td>\n",
       "      <td>8.3</td>\n",
       "    </tr>\n",
       "    <tr>\n",
       "      <th>163</th>\n",
       "      <td>Pirates of the Caribbean: At World's End</td>\n",
       "      <td>300000000</td>\n",
       "      <td>9.610000e+08</td>\n",
       "      <td>11650</td>\n",
       "      <td>7.2</td>\n",
       "    </tr>\n",
       "    <tr>\n",
       "      <th>4953</th>\n",
       "      <td>Justice League</td>\n",
       "      <td>300000000</td>\n",
       "      <td>6.579243e+08</td>\n",
       "      <td>11081</td>\n",
       "      <td>6.2</td>\n",
       "    </tr>\n",
       "    <tr>\n",
       "      <th>5953</th>\n",
       "      <td>Avengers: Infinity War</td>\n",
       "      <td>300000000</td>\n",
       "      <td>2.046240e+09</td>\n",
       "      <td>23715</td>\n",
       "      <td>8.3</td>\n",
       "    </tr>\n",
       "    <tr>\n",
       "      <th>607</th>\n",
       "      <td>Superman Returns</td>\n",
       "      <td>270000000</td>\n",
       "      <td>3.910812e+08</td>\n",
       "      <td>3336</td>\n",
       "      <td>5.7</td>\n",
       "    </tr>\n",
       "    <tr>\n",
       "      <th>3791</th>\n",
       "      <td>Tangled</td>\n",
       "      <td>260000000</td>\n",
       "      <td>5.924617e+08</td>\n",
       "      <td>9129</td>\n",
       "      <td>7.6</td>\n",
       "    </tr>\n",
       "    <tr>\n",
       "      <th>7134</th>\n",
       "      <td>The Lion King</td>\n",
       "      <td>260000000</td>\n",
       "      <td>1.667635e+09</td>\n",
       "      <td>8203</td>\n",
       "      <td>7.1</td>\n",
       "    </tr>\n",
       "    <tr>\n",
       "      <th>280</th>\n",
       "      <td>Spider-Man 3</td>\n",
       "      <td>258000000</td>\n",
       "      <td>8.908716e+08</td>\n",
       "      <td>11137</td>\n",
       "      <td>6.3</td>\n",
       "    </tr>\n",
       "  </tbody>\n",
       "</table>\n",
       "</div>"
      ],
      "text/plain": [
       "                                            title     budget       revenue  \\\n",
       "716   Pirates of the Caribbean: On Stranger Tides  380000000  1.045714e+09   \n",
       "4710                      Avengers: Age of Ultron  365000000  1.405404e+09   \n",
       "5952                            Avengers: Endgame  356000000  2.797801e+09   \n",
       "163      Pirates of the Caribbean: At World's End  300000000  9.610000e+08   \n",
       "4953                               Justice League  300000000  6.579243e+08   \n",
       "5953                       Avengers: Infinity War  300000000  2.046240e+09   \n",
       "607                              Superman Returns  270000000  3.910812e+08   \n",
       "3791                                      Tangled  260000000  5.924617e+08   \n",
       "7134                                The Lion King  260000000  1.667635e+09   \n",
       "280                                  Spider-Man 3  258000000  8.908716e+08   \n",
       "\n",
       "      voteCount  voteAvg  \n",
       "716       11580      6.5  \n",
       "4710      19219      7.3  \n",
       "5952      20186      8.3  \n",
       "163       11650      7.2  \n",
       "4953      11081      6.2  \n",
       "5953      23715      8.3  \n",
       "607        3336      5.7  \n",
       "3791       9129      7.6  \n",
       "7134       8203      7.1  \n",
       "280       11137      6.3  "
      ]
     },
     "execution_count": 12,
     "metadata": {},
     "output_type": "execute_result"
    }
   ],
   "source": [
    "a[[\"title\",\"budget\", \"revenue\", \"voteCount\", \"voteAvg\"]]"
   ]
  },
  {
   "cell_type": "markdown",
   "id": "7bf7ae07",
   "metadata": {},
   "source": [
    "### 4.2) Las 10 películas con mayores ingresos"
   ]
  },
  {
   "cell_type": "code",
   "execution_count": 13,
   "id": "7e466fec",
   "metadata": {},
   "outputs": [],
   "source": [
    "b = datos.nlargest(10,[\"revenue\"])"
   ]
  },
  {
   "cell_type": "code",
   "execution_count": 14,
   "id": "44c63c04",
   "metadata": {},
   "outputs": [
    {
     "data": {
      "text/html": [
       "<div>\n",
       "<style scoped>\n",
       "    .dataframe tbody tr th:only-of-type {\n",
       "        vertical-align: middle;\n",
       "    }\n",
       "\n",
       "    .dataframe tbody tr th {\n",
       "        vertical-align: top;\n",
       "    }\n",
       "\n",
       "    .dataframe thead th {\n",
       "        text-align: right;\n",
       "    }\n",
       "</style>\n",
       "<table border=\"1\" class=\"dataframe\">\n",
       "  <thead>\n",
       "    <tr style=\"text-align: right;\">\n",
       "      <th></th>\n",
       "      <th>title</th>\n",
       "      <th>revenue</th>\n",
       "      <th>budget</th>\n",
       "      <th>voteCount</th>\n",
       "      <th>voteAvg</th>\n",
       "    </tr>\n",
       "  </thead>\n",
       "  <tbody>\n",
       "    <tr>\n",
       "      <th>3210</th>\n",
       "      <td>Avatar</td>\n",
       "      <td>2.847246e+09</td>\n",
       "      <td>237000000</td>\n",
       "      <td>24766</td>\n",
       "      <td>7.5</td>\n",
       "    </tr>\n",
       "    <tr>\n",
       "      <th>5952</th>\n",
       "      <td>Avengers: Endgame</td>\n",
       "      <td>2.797801e+09</td>\n",
       "      <td>356000000</td>\n",
       "      <td>20186</td>\n",
       "      <td>8.3</td>\n",
       "    </tr>\n",
       "    <tr>\n",
       "      <th>307</th>\n",
       "      <td>Titanic</td>\n",
       "      <td>2.187464e+09</td>\n",
       "      <td>200000000</td>\n",
       "      <td>20447</td>\n",
       "      <td>7.9</td>\n",
       "    </tr>\n",
       "    <tr>\n",
       "      <th>4947</th>\n",
       "      <td>Star Wars: The Force Awakens</td>\n",
       "      <td>2.068224e+09</td>\n",
       "      <td>245000000</td>\n",
       "      <td>16616</td>\n",
       "      <td>7.3</td>\n",
       "    </tr>\n",
       "    <tr>\n",
       "      <th>5953</th>\n",
       "      <td>Avengers: Infinity War</td>\n",
       "      <td>2.046240e+09</td>\n",
       "      <td>300000000</td>\n",
       "      <td>23715</td>\n",
       "      <td>8.3</td>\n",
       "    </tr>\n",
       "    <tr>\n",
       "      <th>4914</th>\n",
       "      <td>Jurassic World</td>\n",
       "      <td>1.671713e+09</td>\n",
       "      <td>150000000</td>\n",
       "      <td>17604</td>\n",
       "      <td>6.7</td>\n",
       "    </tr>\n",
       "    <tr>\n",
       "      <th>7134</th>\n",
       "      <td>The Lion King</td>\n",
       "      <td>1.667635e+09</td>\n",
       "      <td>260000000</td>\n",
       "      <td>8203</td>\n",
       "      <td>7.1</td>\n",
       "    </tr>\n",
       "    <tr>\n",
       "      <th>9049</th>\n",
       "      <td>Spider-Man: No Way Home</td>\n",
       "      <td>1.631853e+09</td>\n",
       "      <td>200000000</td>\n",
       "      <td>5630</td>\n",
       "      <td>8.5</td>\n",
       "    </tr>\n",
       "    <tr>\n",
       "      <th>3397</th>\n",
       "      <td>The Avengers</td>\n",
       "      <td>1.518816e+09</td>\n",
       "      <td>220000000</td>\n",
       "      <td>26215</td>\n",
       "      <td>7.7</td>\n",
       "    </tr>\n",
       "    <tr>\n",
       "      <th>5087</th>\n",
       "      <td>Furious 7</td>\n",
       "      <td>1.515048e+09</td>\n",
       "      <td>190000000</td>\n",
       "      <td>8903</td>\n",
       "      <td>7.3</td>\n",
       "    </tr>\n",
       "  </tbody>\n",
       "</table>\n",
       "</div>"
      ],
      "text/plain": [
       "                             title       revenue     budget  voteCount  \\\n",
       "3210                        Avatar  2.847246e+09  237000000      24766   \n",
       "5952             Avengers: Endgame  2.797801e+09  356000000      20186   \n",
       "307                        Titanic  2.187464e+09  200000000      20447   \n",
       "4947  Star Wars: The Force Awakens  2.068224e+09  245000000      16616   \n",
       "5953        Avengers: Infinity War  2.046240e+09  300000000      23715   \n",
       "4914                Jurassic World  1.671713e+09  150000000      17604   \n",
       "7134                 The Lion King  1.667635e+09  260000000       8203   \n",
       "9049       Spider-Man: No Way Home  1.631853e+09  200000000       5630   \n",
       "3397                  The Avengers  1.518816e+09  220000000      26215   \n",
       "5087                     Furious 7  1.515048e+09  190000000       8903   \n",
       "\n",
       "      voteAvg  \n",
       "3210      7.5  \n",
       "5952      8.3  \n",
       "307       7.9  \n",
       "4947      7.3  \n",
       "5953      8.3  \n",
       "4914      6.7  \n",
       "7134      7.1  \n",
       "9049      8.5  \n",
       "3397      7.7  \n",
       "5087      7.3  "
      ]
     },
     "execution_count": 14,
     "metadata": {},
     "output_type": "execute_result"
    }
   ],
   "source": [
    "b[[\"title\",\"revenue\",\"budget\", \"voteCount\", \"voteAvg\"]]"
   ]
  },
  {
   "cell_type": "markdown",
   "id": "a102069f",
   "metadata": {},
   "source": [
    "### 4.3) Película que más votos tuvo"
   ]
  },
  {
   "cell_type": "code",
   "execution_count": 15,
   "id": "a14dc955",
   "metadata": {},
   "outputs": [],
   "source": [
    "c = datos.nlargest(1,[\"voteCount\"])"
   ]
  },
  {
   "cell_type": "code",
   "execution_count": 16,
   "id": "37294567",
   "metadata": {},
   "outputs": [
    {
     "data": {
      "text/html": [
       "<div>\n",
       "<style scoped>\n",
       "    .dataframe tbody tr th:only-of-type {\n",
       "        vertical-align: middle;\n",
       "    }\n",
       "\n",
       "    .dataframe tbody tr th {\n",
       "        vertical-align: top;\n",
       "    }\n",
       "\n",
       "    .dataframe thead th {\n",
       "        text-align: right;\n",
       "    }\n",
       "</style>\n",
       "<table border=\"1\" class=\"dataframe\">\n",
       "  <thead>\n",
       "    <tr style=\"text-align: right;\">\n",
       "      <th></th>\n",
       "      <th>title</th>\n",
       "      <th>voteCount</th>\n",
       "      <th>voteAvg</th>\n",
       "      <th>revenue</th>\n",
       "      <th>budget</th>\n",
       "    </tr>\n",
       "  </thead>\n",
       "  <tbody>\n",
       "    <tr>\n",
       "      <th>3511</th>\n",
       "      <td>Inception</td>\n",
       "      <td>30788</td>\n",
       "      <td>8.4</td>\n",
       "      <td>825532764.0</td>\n",
       "      <td>160000000</td>\n",
       "    </tr>\n",
       "  </tbody>\n",
       "</table>\n",
       "</div>"
      ],
      "text/plain": [
       "          title  voteCount  voteAvg      revenue     budget\n",
       "3511  Inception      30788      8.4  825532764.0  160000000"
      ]
     },
     "execution_count": 16,
     "metadata": {},
     "output_type": "execute_result"
    }
   ],
   "source": [
    "c[[\"title\",\"voteCount\",\"voteAvg\", \"revenue\", \"budget\"]]"
   ]
  },
  {
   "cell_type": "markdown",
   "id": "b6636926",
   "metadata": {},
   "source": [
    "### 4.4) Peor Película de acurdo a los votos de todos los usuarios"
   ]
  },
  {
   "cell_type": "code",
   "execution_count": 17,
   "id": "5b5a2773",
   "metadata": {},
   "outputs": [],
   "source": [
    "d = datos.nsmallest(1,[\"voteAvg\"])"
   ]
  },
  {
   "cell_type": "code",
   "execution_count": 18,
   "id": "824b7747",
   "metadata": {},
   "outputs": [
    {
     "data": {
      "text/html": [
       "<div>\n",
       "<style scoped>\n",
       "    .dataframe tbody tr th:only-of-type {\n",
       "        vertical-align: middle;\n",
       "    }\n",
       "\n",
       "    .dataframe tbody tr th {\n",
       "        vertical-align: top;\n",
       "    }\n",
       "\n",
       "    .dataframe thead th {\n",
       "        text-align: right;\n",
       "    }\n",
       "</style>\n",
       "<table border=\"1\" class=\"dataframe\">\n",
       "  <thead>\n",
       "    <tr style=\"text-align: right;\">\n",
       "      <th></th>\n",
       "      <th>title</th>\n",
       "      <th>voteCount</th>\n",
       "      <th>voteAvg</th>\n",
       "      <th>revenue</th>\n",
       "      <th>budget</th>\n",
       "    </tr>\n",
       "  </thead>\n",
       "  <tbody>\n",
       "    <tr>\n",
       "      <th>9786</th>\n",
       "      <td>DAKAICHI -I'm Being Harassed by the Sexiest Ma...</td>\n",
       "      <td>2</td>\n",
       "      <td>1.3</td>\n",
       "      <td>0.0</td>\n",
       "      <td>0</td>\n",
       "    </tr>\n",
       "  </tbody>\n",
       "</table>\n",
       "</div>"
      ],
      "text/plain": [
       "                                                  title  voteCount  voteAvg  \\\n",
       "9786  DAKAICHI -I'm Being Harassed by the Sexiest Ma...          2      1.3   \n",
       "\n",
       "      revenue  budget  \n",
       "9786      0.0       0  "
      ]
     },
     "execution_count": 18,
     "metadata": {},
     "output_type": "execute_result"
    }
   ],
   "source": [
    "d[[\"title\",\"voteCount\",\"voteAvg\", \"revenue\", \"budget\"]]"
   ]
  },
  {
   "cell_type": "code",
   "execution_count": 19,
   "id": "ed52494e",
   "metadata": {},
   "outputs": [],
   "source": [
    "datos4 = datos[datos[\"voteCount\"] > 1316]"
   ]
  },
  {
   "cell_type": "code",
   "execution_count": 20,
   "id": "cd4319f5",
   "metadata": {},
   "outputs": [],
   "source": [
    "datos4_peor = datos4.nsmallest(1,[\"voteAvg\"])"
   ]
  },
  {
   "cell_type": "code",
   "execution_count": 21,
   "id": "4ea24e8f",
   "metadata": {},
   "outputs": [
    {
     "data": {
      "text/html": [
       "<div>\n",
       "<style scoped>\n",
       "    .dataframe tbody tr th:only-of-type {\n",
       "        vertical-align: middle;\n",
       "    }\n",
       "\n",
       "    .dataframe tbody tr th {\n",
       "        vertical-align: top;\n",
       "    }\n",
       "\n",
       "    .dataframe thead th {\n",
       "        text-align: right;\n",
       "    }\n",
       "</style>\n",
       "<table border=\"1\" class=\"dataframe\">\n",
       "  <thead>\n",
       "    <tr style=\"text-align: right;\">\n",
       "      <th></th>\n",
       "      <th>title</th>\n",
       "      <th>voteCount</th>\n",
       "      <th>voteAvg</th>\n",
       "      <th>revenue</th>\n",
       "      <th>budget</th>\n",
       "    </tr>\n",
       "  </thead>\n",
       "  <tbody>\n",
       "    <tr>\n",
       "      <th>2766</th>\n",
       "      <td>Dragonball Evolution</td>\n",
       "      <td>1600</td>\n",
       "      <td>2.8</td>\n",
       "      <td>58228460.0</td>\n",
       "      <td>30000000</td>\n",
       "    </tr>\n",
       "  </tbody>\n",
       "</table>\n",
       "</div>"
      ],
      "text/plain": [
       "                     title  voteCount  voteAvg     revenue    budget\n",
       "2766  Dragonball Evolution       1600      2.8  58228460.0  30000000"
      ]
     },
     "execution_count": 21,
     "metadata": {},
     "output_type": "execute_result"
    }
   ],
   "source": [
    "datos4_peor[[\"title\",\"voteCount\",\"voteAvg\", \"revenue\", \"budget\"]]"
   ]
  },
  {
   "cell_type": "markdown",
   "id": "4a664d1a",
   "metadata": {},
   "source": [
    "### 4.5) ¿Cuántas películas se hicieron en cada año? ¿En qué año se hicieron más películas? Haga un gráfico de barras"
   ]
  },
  {
   "cell_type": "code",
   "execution_count": 22,
   "id": "d1982ad8",
   "metadata": {},
   "outputs": [],
   "source": [
    "años = datos['releaseDate'].str.split('/', expand = True) # Separando la fecha para obtener el año"
   ]
  },
  {
   "cell_type": "code",
   "execution_count": 23,
   "id": "d2498cff",
   "metadata": {},
   "outputs": [],
   "source": [
    "resumen_fecha = años[2].value_counts().to_frame()"
   ]
  },
  {
   "cell_type": "code",
   "execution_count": 32,
   "id": "1911ae88",
   "metadata": {},
   "outputs": [],
   "source": [
    "resumen_fecha.columns = ['No.Peliculas']"
   ]
  },
  {
   "cell_type": "code",
   "execution_count": 33,
   "id": "27311ccc",
   "metadata": {},
   "outputs": [
    {
     "data": {
      "text/html": [
       "<div>\n",
       "<style scoped>\n",
       "    .dataframe tbody tr th:only-of-type {\n",
       "        vertical-align: middle;\n",
       "    }\n",
       "\n",
       "    .dataframe tbody tr th {\n",
       "        vertical-align: top;\n",
       "    }\n",
       "\n",
       "    .dataframe thead th {\n",
       "        text-align: right;\n",
       "    }\n",
       "</style>\n",
       "<table border=\"1\" class=\"dataframe\">\n",
       "  <thead>\n",
       "    <tr style=\"text-align: right;\">\n",
       "      <th></th>\n",
       "      <th>No.Peliculas</th>\n",
       "    </tr>\n",
       "  </thead>\n",
       "  <tbody>\n",
       "    <tr>\n",
       "      <th>2021</th>\n",
       "      <td>816</td>\n",
       "    </tr>\n",
       "    <tr>\n",
       "      <th>2018</th>\n",
       "      <td>629</td>\n",
       "    </tr>\n",
       "    <tr>\n",
       "      <th>2017</th>\n",
       "      <td>618</td>\n",
       "    </tr>\n",
       "    <tr>\n",
       "      <th>2019</th>\n",
       "      <td>612</td>\n",
       "    </tr>\n",
       "    <tr>\n",
       "      <th>2016</th>\n",
       "      <td>557</td>\n",
       "    </tr>\n",
       "    <tr>\n",
       "      <th>...</th>\n",
       "      <td>...</td>\n",
       "    </tr>\n",
       "    <tr>\n",
       "      <th>1936</th>\n",
       "      <td>1</td>\n",
       "    </tr>\n",
       "    <tr>\n",
       "      <th>1929</th>\n",
       "      <td>1</td>\n",
       "    </tr>\n",
       "    <tr>\n",
       "      <th>1926</th>\n",
       "      <td>1</td>\n",
       "    </tr>\n",
       "    <tr>\n",
       "      <th>1902</th>\n",
       "      <td>1</td>\n",
       "    </tr>\n",
       "    <tr>\n",
       "      <th>1935</th>\n",
       "      <td>1</td>\n",
       "    </tr>\n",
       "  </tbody>\n",
       "</table>\n",
       "<p>99 rows × 1 columns</p>\n",
       "</div>"
      ],
      "text/plain": [
       "      No.Peliculas\n",
       "2021           816\n",
       "2018           629\n",
       "2017           618\n",
       "2019           612\n",
       "2016           557\n",
       "...            ...\n",
       "1936             1\n",
       "1929             1\n",
       "1926             1\n",
       "1902             1\n",
       "1935             1\n",
       "\n",
       "[99 rows x 1 columns]"
      ]
     },
     "execution_count": 33,
     "metadata": {},
     "output_type": "execute_result"
    }
   ],
   "source": [
    "resumen_fecha"
   ]
  },
  {
   "cell_type": "code",
   "execution_count": 34,
   "id": "04b604b8",
   "metadata": {},
   "outputs": [
    {
     "data": {
      "text/plain": [
       "<AxesSubplot:>"
      ]
     },
     "execution_count": 34,
     "metadata": {},
     "output_type": "execute_result"
    },
    {
     "data": {
      "image/png": "[encoded data removed]",
      "text/plain": [
       "<Figure size 432x288 with 1 Axes>"
      ]
     },
     "metadata": {
      "needs_background": "light"
     },
     "output_type": "display_data"
    }
   ],
   "source": [
    "resumen_fecha.plot(kind='bar')"
   ]
  },
  {
   "cell_type": "code",
   "execution_count": 38,
   "id": "6dfd9559",
   "metadata": {},
   "outputs": [],
   "source": [
    "top20 = resumen_fecha.nlargest(20,[\"No.Peliculas\"]) # Se analizará los 10 años donde se realizaron más películas"
   ]
  },
  {
   "cell_type": "code",
   "execution_count": 40,
   "id": "cef0ac2e",
   "metadata": {},
   "outputs": [
    {
     "data": {
      "text/html": [
       "<div>\n",
       "<style scoped>\n",
       "    .dataframe tbody tr th:only-of-type {\n",
       "        vertical-align: middle;\n",
       "    }\n",
       "\n",
       "    .dataframe tbody tr th {\n",
       "        vertical-align: top;\n",
       "    }\n",
       "\n",
       "    .dataframe thead th {\n",
       "        text-align: right;\n",
       "    }\n",
       "</style>\n",
       "<table border=\"1\" class=\"dataframe\">\n",
       "  <thead>\n",
       "    <tr style=\"text-align: right;\">\n",
       "      <th></th>\n",
       "      <th>No.Peliculas</th>\n",
       "    </tr>\n",
       "  </thead>\n",
       "  <tbody>\n",
       "    <tr>\n",
       "      <th>2021</th>\n",
       "      <td>816</td>\n",
       "    </tr>\n",
       "    <tr>\n",
       "      <th>2018</th>\n",
       "      <td>629</td>\n",
       "    </tr>\n",
       "    <tr>\n",
       "      <th>2017</th>\n",
       "      <td>618</td>\n",
       "    </tr>\n",
       "    <tr>\n",
       "      <th>2019</th>\n",
       "      <td>612</td>\n",
       "    </tr>\n",
       "    <tr>\n",
       "      <th>2016</th>\n",
       "      <td>557</td>\n",
       "    </tr>\n",
       "    <tr>\n",
       "      <th>2020</th>\n",
       "      <td>533</td>\n",
       "    </tr>\n",
       "    <tr>\n",
       "      <th>2015</th>\n",
       "      <td>450</td>\n",
       "    </tr>\n",
       "    <tr>\n",
       "      <th>2014</th>\n",
       "      <td>432</td>\n",
       "    </tr>\n",
       "    <tr>\n",
       "      <th>2013</th>\n",
       "      <td>412</td>\n",
       "    </tr>\n",
       "    <tr>\n",
       "      <th>2011</th>\n",
       "      <td>361</td>\n",
       "    </tr>\n",
       "    <tr>\n",
       "      <th>2009</th>\n",
       "      <td>342</td>\n",
       "    </tr>\n",
       "    <tr>\n",
       "      <th>2012</th>\n",
       "      <td>328</td>\n",
       "    </tr>\n",
       "    <tr>\n",
       "      <th>2010</th>\n",
       "      <td>307</td>\n",
       "    </tr>\n",
       "    <tr>\n",
       "      <th>2008</th>\n",
       "      <td>282</td>\n",
       "    </tr>\n",
       "    <tr>\n",
       "      <th>2006</th>\n",
       "      <td>272</td>\n",
       "    </tr>\n",
       "    <tr>\n",
       "      <th>2007</th>\n",
       "      <td>266</td>\n",
       "    </tr>\n",
       "    <tr>\n",
       "      <th>2005</th>\n",
       "      <td>245</td>\n",
       "    </tr>\n",
       "    <tr>\n",
       "      <th>2004</th>\n",
       "      <td>229</td>\n",
       "    </tr>\n",
       "    <tr>\n",
       "      <th>2003</th>\n",
       "      <td>199</td>\n",
       "    </tr>\n",
       "    <tr>\n",
       "      <th>2002</th>\n",
       "      <td>185</td>\n",
       "    </tr>\n",
       "  </tbody>\n",
       "</table>\n",
       "</div>"
      ],
      "text/plain": [
       "      No.Peliculas\n",
       "2021           816\n",
       "2018           629\n",
       "2017           618\n",
       "2019           612\n",
       "2016           557\n",
       "2020           533\n",
       "2015           450\n",
       "2014           432\n",
       "2013           412\n",
       "2011           361\n",
       "2009           342\n",
       "2012           328\n",
       "2010           307\n",
       "2008           282\n",
       "2006           272\n",
       "2007           266\n",
       "2005           245\n",
       "2004           229\n",
       "2003           199\n",
       "2002           185"
      ]
     },
     "execution_count": 40,
     "metadata": {},
     "output_type": "execute_result"
    }
   ],
   "source": [
    "top20"
   ]
  },
  {
   "cell_type": "code",
   "execution_count": 41,
   "id": "0a9746df",
   "metadata": {},
   "outputs": [
    {
     "data": {
      "text/plain": [
       "<AxesSubplot:>"
      ]
     },
     "execution_count": 41,
     "metadata": {},
     "output_type": "execute_result"
    },
    {
     "data": {
      "image/png": "[encoded data removed]",
      "text/plain": [
       "<Figure size 432x288 with 1 Axes>"
      ]
     },
     "metadata": {
      "needs_background": "light"
     },
     "output_type": "display_data"
    }
   ],
   "source": [
    "top20.plot(kind='bar')"
   ]
  }
 ],
 "metadata": {
  "kernelspec": {
   "display_name": "Python 3 (ipykernel)",
   "language": "python",
   "name": "python3"
  },
  "language_info": {
   "codemirror_mode": {
    "name": "ipython",
    "version": 3
   },
   "file_extension": ".py",
   "mimetype": "text/x-python",
   "name": "python",
   "nbconvert_exporter": "python",
   "pygments_lexer": "ipython3",
   "version": "3.9.7"
  }
 },
 "nbformat": 4,
 "nbformat_minor": 5
}
